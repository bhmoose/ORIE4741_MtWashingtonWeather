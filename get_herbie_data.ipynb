{
 "cells": [
  {
   "cell_type": "code",
   "execution_count": 1,
   "metadata": {},
   "outputs": [],
   "source": [
    "from herbie import Herbie\n",
    "import xarray as xr\n",
    "import numpy as np\n",
    "import pandas as pd\n",
    "import matplotlib.pyplot as plt\n"
   ]
  },
  {
   "cell_type": "code",
   "execution_count": 126,
   "metadata": {},
   "outputs": [],
   "source": [
    "#Get dates to get weather model data for\n",
    "unique_dates = pd.to_datetime(pd.read_csv('cleaned_mwobs.csv')['valid']).dt.date.unique()"
   ]
  },
  {
   "cell_type": "code",
   "execution_count": 132,
   "metadata": {},
   "outputs": [],
   "source": [
    "#Format dates as strings\n",
    "formatted_dates = []\n",
    "for i in range(len(unique_dates)):\n",
    "  formatted_dates.append(unique_dates[i].strftime(\"%Y-%m-%d\") + \" 10:00\")"
   ]
  },
  {
   "cell_type": "code",
   "execution_count": 133,
   "metadata": {},
   "outputs": [],
   "source": [
    "#Get coordinates closest to Mt Washington\n",
    "#distances = (H.xarray(':TMP:2 m').t2m[770:900, 1450:1630].longitude - 288.6967)**2 + (H.xarray(':TMP:2 m').t2m[770:900, 1450:1630].latitude - 44.2706)**2\n",
    "#np.argwhere(~np.isnan(distances.where(distances==distances.min()).values))\n"
   ]
  },
  {
   "cell_type": "code",
   "execution_count": 136,
   "metadata": {},
   "outputs": [],
   "source": [
    "#Terrible function that I hard coded but it works\n",
    "#Gets forecast data from average of 6 100_km regions around Mt Washington as well as Mt Washington itself\n",
    "def make_data_point(tempdata, dptdata, uwinddata, vwinddata, wspddata, precipdata):\n",
    "  return np.array([tempdata[842, 1589].values,\n",
    "  tempdata[842:842+30, 1589-33:1589].values.mean(),\n",
    "  tempdata[842:842+30, 1589-66:1589-33].values.mean(),\n",
    "  tempdata[842-30:842, 1589-33:1589].values.mean(),\n",
    "  tempdata[842-30:842, 1589-66:1589-33].values.mean(),\n",
    "  tempdata[842-30:842, 1589:1589+33].values.mean(),\n",
    "  tempdata[842:842+30, 1589:1589+33].values.mean(),\n",
    "  dptdata[842, 1589].values,\n",
    "  dptdata[842:842+30, 1589-33:1589].values.mean(),\n",
    "  dptdata[842:842+30, 1589-66:1589-33].values.mean(),\n",
    "  dptdata[842-30:842, 1589-33:1589].values.mean(),\n",
    "  dptdata[842-30:842, 1589-66:1589-33].values.mean(),\n",
    "  dptdata[842-30:842, 1589:1589+33].values.mean(),\n",
    "  dptdata[842:842+30, 1589:1589+33].values.mean(),\n",
    "  uwinddata[842, 1589].values,\n",
    "  uwinddata[842:842+30, 1589-33:1589].values.mean(),\n",
    "  uwinddata[842:842+30, 1589-66:1589-33].values.mean(),\n",
    "  uwinddata[842-30:842, 1589-33:1589].values.mean(),\n",
    "  uwinddata[842-30:842, 1589-66:1589-33].values.mean(),\n",
    "  uwinddata[842-30:842, 1589:1589+33].values.mean(),\n",
    "  uwinddata[842:842+30, 1589:1589+33].values.mean(),\n",
    "  vwinddata[842, 1589].values,\n",
    "  vwinddata[842:842+30, 1589-33:1589].values.mean(),\n",
    "  vwinddata[842:842+30, 1589-66:1589-33].values.mean(),\n",
    "  vwinddata[842-30:842, 1589-33:1589].values.mean(),\n",
    "  vwinddata[842-30:842, 1589-66:1589-33].values.mean(),\n",
    "  vwinddata[842-30:842, 1589:1589+33].values.mean(),\n",
    "  vwinddata[842:842+30, 1589:1589+33].values.mean(),\n",
    "  wspddata[842, 1589].values,\n",
    "  wspddata[842:842+30, 1589-33:1589].values.mean(),\n",
    "  wspddata[842:842+30, 1589-66:1589-33].values.mean(),\n",
    "  wspddata[842-30:842, 1589-33:1589].values.mean(),\n",
    "  wspddata[842-30:842, 1589-66:1589-33].values.mean(),\n",
    "  wspddata[842-30:842, 1589:1589+33].values.mean(),\n",
    "  wspddata[842:842+30, 1589:1589+33].values.mean(),\n",
    "  precipdata[842, 1589].values,\n",
    "  precipdata[842:842+30, 1589-33:1589].values.mean(),\n",
    "  precipdata[842:842+30, 1589-66:1589-33].values.mean(),\n",
    "  precipdata[842-30:842, 1589-33:1589].values.mean(),\n",
    "  precipdata[842-30:842, 1589-66:1589-33].values.mean(),\n",
    "  precipdata[842-30:842, 1589:1589+33].values.mean(),\n",
    "  precipdata[842:842+30, 1589:1589+33].values.mean(),\n",
    "  ])"
   ]
  },
  {
   "cell_type": "code",
   "execution_count": null,
   "metadata": {},
   "outputs": [],
   "source": [
    "all_data_points = []\n",
    "for date in formatted_dates:\n",
    "  print(date)\n",
    "  H = Herbie(\n",
    "      formatted_dates[i],\n",
    "      model=\"hrrr\",\n",
    "      product=\"sfc\",\n",
    "      fxx=10,\n",
    "  )\n",
    "\n",
    "  print('Collecting data...')\n",
    "  #Get relevant fields from weather model\n",
    "  tempdata = H.xarray(':TMP:2 m').t2m\n",
    "  dptdata = H.xarray(':DPT:2 m').d2m\n",
    "  uwinddata = H.xarray(':UGRD:10 m').u10\n",
    "  vwinddata = H.xarray(':VGRD:10 m').v10\n",
    "  wspddata = np.sqrt(uwinddata**2 + vwinddata**2)\n",
    "  precipdata = H.xarray(':APCP:').tp\n",
    "\n",
    "  #Get data point from fields\n",
    "  data_point = make_data_point(tempdata, dptdata, uwinddata, vwinddata, wspddata, precipdata)\n",
    "  all_data_points.append(data_point)\n"
   ]
  },
  {
   "cell_type": "code",
   "execution_count": 144,
   "metadata": {},
   "outputs": [],
   "source": [
    "#Save results once finished\n",
    "np.savetxt('model_data.csv', all_data_points)"
   ]
  }
 ],
 "metadata": {
  "kernelspec": {
   "display_name": "Python 3",
   "language": "python",
   "name": "python3"
  },
  "language_info": {
   "codemirror_mode": {
    "name": "ipython",
    "version": 3
   },
   "file_extension": ".py",
   "mimetype": "text/x-python",
   "name": "python",
   "nbconvert_exporter": "python",
   "pygments_lexer": "ipython3",
   "version": "3.11.9"
  }
 },
 "nbformat": 4,
 "nbformat_minor": 2
}
