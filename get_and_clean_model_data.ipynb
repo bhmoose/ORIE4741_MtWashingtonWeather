{
 "cells": [
  {
   "cell_type": "code",
   "execution_count": null,
   "metadata": {},
   "outputs": [],
   "source": [
    "#Script to get data from weather models"
   ]
  },
  {
   "cell_type": "code",
   "execution_count": null,
   "metadata": {},
   "outputs": [],
   "source": [
    "from herbie import Herbie\n",
    "import xarray as xr\n",
    "import numpy as np\n",
    "import pandas as pd\n",
    "import matplotlib.pyplot as plt\n"
   ]
  },
  {
   "cell_type": "code",
   "execution_count": null,
   "metadata": {},
   "outputs": [],
   "source": [
    "#Get dates to get weather model data for\n",
    "unique_dates = pd.to_datetime(pd.read_csv('cleaned_mwobs.csv')['valid']).dt.date.unique()"
   ]
  },
  {
   "cell_type": "code",
   "execution_count": null,
   "metadata": {},
   "outputs": [],
   "source": [
    "#Format dates as strings\n",
    "formatted_dates = []\n",
    "for i in range(len(unique_dates)):\n",
    "  formatted_dates.append(unique_dates[i].strftime(\"%Y-%m-%d\") + \" 10:00\")"
   ]
  },
  {
   "cell_type": "code",
   "execution_count": null,
   "metadata": {},
   "outputs": [],
   "source": [
    "#Get coordinates closest to Mt Washington\n",
    "#distances = (H.xarray(':TMP:2 m').t2m[770:900, 1450:1630].longitude - 288.6967)**2 + (H.xarray(':TMP:2 m').t2m[770:900, 1450:1630].latitude - 44.2706)**2\n",
    "#np.argwhere(~np.isnan(distances.where(distances==distances.min()).values))\n"
   ]
  },
  {
   "cell_type": "code",
   "execution_count": null,
   "metadata": {},
   "outputs": [],
   "source": [
    "#Terrible function that I hard coded but it works\n",
    "#Gets forecast data from average of 6 100_km regions around Mt Washington as well as Mt Washington itself\n",
    "def make_data_point(tempdata, dptdata, uwinddata, vwinddata, wspddata, precipdata, t800data, d800data, u800data, v800data, wspd800data):\n",
    "  return np.array([tempdata[842, 1589].values,\n",
    "  tempdata[842:842+30, 1589-33:1589].values.mean(),\n",
    "  tempdata[842:842+30, 1589-66:1589-33].values.mean(),\n",
    "  tempdata[842-30:842, 1589-33:1589].values.mean(),\n",
    "  tempdata[842-30:842, 1589-66:1589-33].values.mean(),\n",
    "  tempdata[842-30:842, 1589:1589+33].values.mean(),\n",
    "  tempdata[842:842+30, 1589:1589+33].values.mean(),\n",
    "  dptdata[842, 1589].values,\n",
    "  dptdata[842:842+30, 1589-33:1589].values.mean(),\n",
    "  dptdata[842:842+30, 1589-66:1589-33].values.mean(),\n",
    "  dptdata[842-30:842, 1589-33:1589].values.mean(),\n",
    "  dptdata[842-30:842, 1589-66:1589-33].values.mean(),\n",
    "  dptdata[842-30:842, 1589:1589+33].values.mean(),\n",
    "  dptdata[842:842+30, 1589:1589+33].values.mean(),\n",
    "  uwinddata[842, 1589].values,\n",
    "  uwinddata[842:842+30, 1589-33:1589].values.mean(),\n",
    "  uwinddata[842:842+30, 1589-66:1589-33].values.mean(),\n",
    "  uwinddata[842-30:842, 1589-33:1589].values.mean(),\n",
    "  uwinddata[842-30:842, 1589-66:1589-33].values.mean(),\n",
    "  uwinddata[842-30:842, 1589:1589+33].values.mean(),\n",
    "  uwinddata[842:842+30, 1589:1589+33].values.mean(),\n",
    "  vwinddata[842, 1589].values,\n",
    "  vwinddata[842:842+30, 1589-33:1589].values.mean(),\n",
    "  vwinddata[842:842+30, 1589-66:1589-33].values.mean(),\n",
    "  vwinddata[842-30:842, 1589-33:1589].values.mean(),\n",
    "  vwinddata[842-30:842, 1589-66:1589-33].values.mean(),\n",
    "  vwinddata[842-30:842, 1589:1589+33].values.mean(),\n",
    "  vwinddata[842:842+30, 1589:1589+33].values.mean(),\n",
    "  wspddata[842, 1589].values,\n",
    "  wspddata[842:842+30, 1589-33:1589].values.mean(),\n",
    "  wspddata[842:842+30, 1589-66:1589-33].values.mean(),\n",
    "  wspddata[842-30:842, 1589-33:1589].values.mean(),\n",
    "  wspddata[842-30:842, 1589-66:1589-33].values.mean(),\n",
    "  wspddata[842-30:842, 1589:1589+33].values.mean(),\n",
    "  wspddata[842:842+30, 1589:1589+33].values.mean(),\n",
    "  precipdata[842, 1589].values,\n",
    "  precipdata[842:842+30, 1589-33:1589].values.mean(),\n",
    "  precipdata[842:842+30, 1589-66:1589-33].values.mean(),\n",
    "  precipdata[842-30:842, 1589-33:1589].values.mean(),\n",
    "  precipdata[842-30:842, 1589-66:1589-33].values.mean(),\n",
    "  precipdata[842-30:842, 1589:1589+33].values.mean(),\n",
    "  precipdata[842:842+30, 1589:1589+33].values.mean(),\n",
    "  t800data[842, 1589].values,\n",
    "  t800data[842:842+30, 1589-33:1589].values.mean(),\n",
    "  t800data[842:842+30, 1589-66:1589-33].values.mean(),\n",
    "  t800data[842-30:842, 1589-33:1589].values.mean(),\n",
    "  t800data[842-30:842, 1589-66:1589-33].values.mean(),\n",
    "  t800data[842-30:842, 1589:1589+33].values.mean(),\n",
    "  t800data[842:842+30, 1589:1589+33].values.mean(),\n",
    "  d800data[842, 1589].values,\n",
    "  d800data[842:842+30, 1589-33:1589].values.mean(),\n",
    "  d800data[842:842+30, 1589-66:1589-33].values.mean(),\n",
    "  d800data[842-30:842, 1589-33:1589].values.mean(),\n",
    "  d800data[842-30:842, 1589-66:1589-33].values.mean(),\n",
    "  d800data[842-30:842, 1589:1589+33].values.mean(),\n",
    "  d800data[842:842+30, 1589:1589+33].values.mean(),\n",
    "  u800data[842, 1589].values,\n",
    "  u800data[842:842+30, 1589-33:1589].values.mean(),\n",
    "  u800data[842:842+30, 1589-66:1589-33].values.mean(),\n",
    "  u800data[842-30:842, 1589-33:1589].values.mean(),\n",
    "  u800data[842-30:842, 1589-66:1589-33].values.mean(),\n",
    "  u800data[842-30:842, 1589:1589+33].values.mean(),\n",
    "  u800data[842:842+30, 1589:1589+33].values.mean(),\n",
    "  v800data[842, 1589].values,\n",
    "  v800data[842:842+30, 1589-33:1589].values.mean(),\n",
    "  v800data[842:842+30, 1589-66:1589-33].values.mean(),\n",
    "  v800data[842-30:842, 1589-33:1589].values.mean(),\n",
    "  v800data[842-30:842, 1589-66:1589-33].values.mean(),\n",
    "  v800data[842-30:842, 1589:1589+33].values.mean(),\n",
    "  v800data[842:842+30, 1589:1589+33].values.mean(),\n",
    "  wspd800data[842, 1589].values,\n",
    "  wspd800data[842:842+30, 1589-33:1589].values.mean(),\n",
    "  wspd800data[842:842+30, 1589-66:1589-33].values.mean(),\n",
    "  wspd800data[842-30:842, 1589-33:1589].values.mean(),\n",
    "  wspd800data[842-30:842, 1589-66:1589-33].values.mean(),\n",
    "  wspd800data[842-30:842, 1589:1589+33].values.mean(),\n",
    "  wspd800data[842:842+30, 1589:1589+33].values.mean(),\n",
    "  ])"
   ]
  },
  {
   "cell_type": "code",
   "execution_count": null,
   "metadata": {},
   "outputs": [],
   "source": [
    "H = Herbie(\n",
    "    '2022-02-03',\n",
    "    model=\"hrrr\",\n",
    "    product=\"prs\",\n",
    "    fxx=10,\n",
    ")"
   ]
  },
  {
   "cell_type": "code",
   "execution_count": null,
   "metadata": {},
   "outputs": [],
   "source": [
    "for group in np.arange(2190, len(formatted_dates), 30):\n",
    "  all_data_points = []\n",
    "  print(group)\n",
    "  for date in formatted_dates[group - 30:group]:\n",
    "    print(date)\n",
    "    try:\n",
    "      H = Herbie(\n",
    "          date,\n",
    "          model=\"hrrr\",\n",
    "          product=\"sfc\",\n",
    "          fxx=10,\n",
    "      )\n",
    "\n",
    "      print('Collecting data...')\n",
    "      #Get relevant fields from weather model\n",
    "      tempdata = H.xarray(':TMP:2 m').t2m\n",
    "      dptdata = H.xarray(':DPT:2 m').d2m\n",
    "      uwinddata = H.xarray(':UGRD:10 m').u10\n",
    "      vwinddata = H.xarray(':VGRD:10 m').v10\n",
    "      wspddata = np.sqrt(uwinddata**2 + vwinddata**2)\n",
    "      precipdata = H.xarray(':APCP:').tp\n",
    "\n",
    "      Hprs = Herbie(\n",
    "          date,\n",
    "          model=\"hrrr\",\n",
    "          product=\"prs\",\n",
    "          fxx=10,\n",
    "      )\n",
    "\n",
    "      t800data = Hprs.xarray('TMP:800 mb').t\n",
    "      d800data = Hprs.xarray('DPT:800 mb').dpt\n",
    "      u800data = Hprs.xarray('UGRD:800 mb').u\n",
    "      v800data = Hprs.xarray('VGRD:800 mb').v\n",
    "      wspd800data = np.sqrt(u800data**2 + v800data**2)\n",
    "\n",
    "      #Get data point from fields\n",
    "      data_point = make_data_point(tempdata, dptdata, uwinddata, vwinddata, wspddata, precipdata, t800data, d800data, u800data, v800data, wspd800data)\n",
    "      all_data_points.append(data_point)\n",
    "    except:\n",
    "      print(\"Error in getting data\")\n",
    "      all_data_points.append([np.nan for i in range(11*7)])\n",
    "\n",
    "    #Save results once finished\n",
    "  np.savetxt('model_data' + str(group) + '.csv', np.array(all_data_points), delimiter = ',')\n"
   ]
  },
  {
   "cell_type": "code",
   "execution_count": null,
   "metadata": {},
   "outputs": [],
   "source": [
    "df = pd.read_csv('C:/users/benja/downloads/model_data/model_data30.csv', header = None)\n",
    "for i in range(60, 3541, 30):\n",
    "  print(i)\n",
    "  df = pd.concat([df, pd.read_csv('C:/users/benja/downloads/model_data/model_data' + str(i) + '.csv', header = None)], axis = 0, ignore_index=True)"
   ]
  },
  {
   "cell_type": "code",
   "execution_count": null,
   "metadata": {},
   "outputs": [],
   "source": [
    "df"
   ]
  },
  {
   "cell_type": "code",
   "execution_count": null,
   "metadata": {},
   "outputs": [],
   "source": [
    "df.insert(0, 'datetime', pd.to_datetime(pd.Series(formatted_dates[:-16])))"
   ]
  },
  {
   "cell_type": "code",
   "execution_count": null,
   "metadata": {},
   "outputs": [],
   "source": [
    "df.columns = ['datetime', 'tsfc1', 'tsfc2', 'tsfc3', 'tsfc4', 'tsfc5', 'tsfc6', 'tsfc7', 'tdsfc1', 'tdsfc2', 'tdsfc3', 'tdsfc4', 'tdsfc5', 'tdsfc6', 'tdsfc7', 'usfc1', 'usfc2', 'usfc3', 'usfc4', 'usfc5', 'usfc6', 'usfc7', 'vsfc1', 'vsfc2', 'vsfc3', 'vsfc4', 'vsfc5', 'vsfc6', 'vsfc7', 'wssfc1', 'wssfc2', 'wssfc3', 'wssfc4', 'wssfc5', 'wssfc6', 'wssfc7', 'psfc1', 'psfc2', 'psfc3', 'psfc4', 'psfc5', 'psfc6', 'psfc7', 't8001', 't8002', 't8003', 't8004', 't8005', 't8006', 't8007', 'td8001', 'td8002', 'td8003', 'td8004', 'td8005', 'td8006', 'td8007', 'u8001', 'u8002', 'u8003', 'u8004', 'u8005', 'u8006', 'u8007', 'v8001', 'v8002', 'v8003', 'v8004', 'v8005', 'v8006', 'v8007', 'ws8001', 'ws8002', 'ws8003', 'ws8004', 'ws8005', 'ws8006', 'ws8007']"
   ]
  },
  {
   "cell_type": "code",
   "execution_count": null,
   "metadata": {},
   "outputs": [],
   "source": [
    "df.set_index('datetime')"
   ]
  },
  {
   "cell_type": "code",
   "execution_count": null,
   "metadata": {},
   "outputs": [],
   "source": [
    "mwobs_features = pd.read_csv('C:/users/benja/downloads/ORIE4741/mwobs_feature_data.csv')\n",
    "mwobs_features['date'] = pd.to_datetime(mwobs_features['date'])\n",
    "mwobs_features.drop(columns = ['Unnamed: 0'], inplace=True)"
   ]
  },
  {
   "cell_type": "code",
   "execution_count": null,
   "metadata": {},
   "outputs": [],
   "source": [
    "daterange = pd.date_range('2014-08-02', '2024-04-10')\n",
    "df_shared = pd.DataFrame(df.iloc[1]).transpose()\n",
    "for i in range(1, len(daterange)):\n",
    "  print(i)\n",
    "  if mwobs_features[mwobs_features['date'].dt.date == daterange[i].date()].shape[0] > 0:\n",
    "    df_shared = pd.concat([df_shared, df[df['datetime'].dt.date == daterange[i].date()]], axis = 0)\n"
   ]
  },
  {
   "cell_type": "code",
   "execution_count": null,
   "metadata": {},
   "outputs": [],
   "source": [
    "df_shared.reset_index(inplace=True, drop=True)"
   ]
  },
  {
   "cell_type": "code",
   "execution_count": null,
   "metadata": {},
   "outputs": [],
   "source": [
    "df_shared['datetime'] = df_shared['datetime'].dt.date"
   ]
  },
  {
   "cell_type": "code",
   "execution_count": null,
   "metadata": {},
   "outputs": [],
   "source": [
    "all_features = pd.concat([df_shared, mwobs_features], axis = 1)\n",
    "all_features.drop(columns = ['date'], inplace=True)"
   ]
  },
  {
   "cell_type": "code",
   "execution_count": null,
   "metadata": {},
   "outputs": [],
   "source": [
    "all_features.to_csv('C:/users/benja/downloads/ORIE4741/all_feature_data.csv')"
   ]
  }
 ],
 "metadata": {
  "kernelspec": {
   "display_name": "Python 3",
   "language": "python",
   "name": "python3"
  },
  "language_info": {
   "codemirror_mode": {
    "name": "ipython",
    "version": 3
   },
   "file_extension": ".py",
   "mimetype": "text/x-python",
   "name": "python",
   "nbconvert_exporter": "python",
   "pygments_lexer": "ipython3",
   "version": "3.11.9"
  }
 },
 "nbformat": 4,
 "nbformat_minor": 2
}
